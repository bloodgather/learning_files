{
 "cells": [
  {
   "cell_type": "code",
   "execution_count": 7,
   "metadata": {},
   "outputs": [],
   "source": [
    "import jieba\n",
    "\n",
    "import collections\n",
    "\n",
    "import re\n",
    "\n",
    "from pyecharts.charts import WordCloud\n",
    "\n",
    "from pyecharts.globals import SymbolType\n",
    "\n",
    "from pyecharts import options as opts\n",
    "\n",
    "from pyecharts.globals import ThemeType"
   ]
  },
  {
   "cell_type": "code",
   "execution_count": 30,
   "metadata": {},
   "outputs": [
    {
     "ename": "IndentationError",
     "evalue": "unindent does not match any outer indentation level (<tokenize>, line 19)",
     "output_type": "error",
     "traceback": [
      "\u001b[1;36m  File \u001b[1;32m\"<tokenize>\"\u001b[1;36m, line \u001b[1;32m19\u001b[0m\n\u001b[1;33m    for word in seg_list_exact:\u001b[0m\n\u001b[1;37m    ^\u001b[0m\n\u001b[1;31mIndentationError\u001b[0m\u001b[1;31m:\u001b[0m unindent does not match any outer indentation level\n"
     ]
    }
   ],
   "source": [
    "# 去除分词结果中的无用词汇\n",
    "\n",
    "def deal_txt(seg_list_exact):\n",
    "    \n",
    "    result_list = []\n",
    "    \n",
    "    with open('stop_words.txt', encoding='utf-8') as f:\n",
    "    \n",
    "    con = f.readlines()\n",
    "\n",
    "    stop_words = set()\n",
    "\n",
    "    for i in con:\n",
    "\n",
    "            i = i.replace(\"\\n\", \"\")  # 去掉读取每一行数据的\\n\n",
    "\n",
    "            stop_words.add(i)\n",
    "    \n",
    "    for word in seg_list_exact:\n",
    "\n",
    "    # 设置停用词并去除单个词\n",
    "\n",
    "        if word not in stop_words and len(word) > 1:\n",
    "\n",
    "            result_list.append(word)\n",
    "\n",
    "        return result_list"
   ]
  },
  {
   "cell_type": "code",
   "execution_count": 43,
   "metadata": {},
   "outputs": [],
   "source": [
    "# 去除分词结果中的无用词汇\n",
    "\n",
    "def deal_txt(seg_list_exact): \n",
    "\n",
    "    result_list = []\n",
    "\n",
    "    with open('stop_words.txt', encoding='utf-8') as f:\n",
    "\n",
    "        con = f.readlines()\n",
    "\n",
    "        stop_words = set()\n",
    "\n",
    "        for i in con:\n",
    "\n",
    "            i = i.replace(\"\\n\", \"\")  # 去掉读取每一行数据的\\n\n",
    "\n",
    "            stop_words.add(i)\n",
    "\n",
    "    for word in seg_list_exact:\n",
    "\n",
    "    # 设置停用词并去除单个词\n",
    "\n",
    "        if word not in stop_words and len(word) > 1:\n",
    "\n",
    "            result_list.append(word)\n",
    "\n",
    "    return result_list\n"
   ]
  },
  {
   "cell_type": "code",
   "execution_count": 45,
   "metadata": {},
   "outputs": [],
   "source": [
    "# 渲染词云\n",
    "\n",
    "def render_cloud(word_counts_top100):\n",
    "\n",
    "    word1 = WordCloud(init_opts=opts.InitOpts(width='1350px', height='750px', theme=ThemeType.MACARONS))\n",
    "\n",
    "    word1.add('词频', data_pair=word_counts_top100,\n",
    "\n",
    "        word_size_range=[15, 108], textstyle_opts=opts.TextStyleOpts(font_family='cursive'),\n",
    "\n",
    "        shape=SymbolType.DIAMOND)\n",
    "\n",
    "    word1.set_global_opts(title_opts=opts.TitleOpts('评论云图'),\n",
    "\n",
    "            toolbox_opts=opts.ToolboxOpts(is_show=True, orient='vertical'),\n",
    "\n",
    "            tooltip_opts=opts.TooltipOpts(is_show=True, background_color='red', border_color='yellow'))\n",
    "\n",
    "    # 渲染在html页面上\n",
    "\n",
    "    word1.render(\"评论云图.html\")\n",
    "\n"
   ]
  },
  {
   "cell_type": "code",
   "execution_count": 48,
   "metadata": {},
   "outputs": [
    {
     "ename": "SyntaxError",
     "evalue": "invalid character in identifier (<ipython-input-48-422e04c69430>, line 11)",
     "output_type": "error",
     "traceback": [
      "\u001b[1;36m  File \u001b[1;32m\"<ipython-input-48-422e04c69430>\"\u001b[1;36m, line \u001b[1;32m11\u001b[0m\n\u001b[1;33m    new_data = re.findall(r'[\\u4e00-\\u9fa5]+', data, re.S)\u001b[0m\n\u001b[1;37m                                                          ^\u001b[0m\n\u001b[1;31mSyntaxError\u001b[0m\u001b[1;31m:\u001b[0m invalid character in identifier\n"
     ]
    }
   ],
   "source": [
    "if __name__ == '__main__':\n",
    "\n",
    "# 读取弹幕文件\n",
    "\n",
    "    with open('content.txt', encoding='utf-8') as f:\n",
    "\n",
    "        data = f.read()\n",
    "\n",
    "# 文本预处理 去除一些无用的字符  只提取出中文出来\n",
    "\n",
    "    new_data = re.findall('[\\u4e00-\\u9fa5]+', data, re.S) \n",
    "\n",
    "    new_data = \" \".join(new_data)\n",
    "\n",
    "\n",
    "\n",
    "    # jieba分词将整句切成分词\n",
    "\n",
    "    seg_list_exact = jieba.cut(new_data, cut_all=True)\n",
    "\n",
    "\n",
    "\n",
    "    # 去掉无用词汇\n",
    "\n",
    "    final_list = deal_txt(seg_list_exact)\n",
    "\n",
    "    # 筛选后统计\n",
    "\n",
    "    word_counts = collections.Counter(final_list)\n",
    "\n",
    "    # 获取前100最高频的词\n",
    "\n",
    "    word_counts_top100 = word_counts.most_common(100)\n",
    "\n",
    "    # 可以打印出来看看统计的词频\n",
    "\n",
    "    # print(word_counts_top100)\n",
    "\n",
    "    # 渲染词云\n",
    "\n",
    "    render_cloud(word_counts_top100)"
   ]
  }
 ],
 "metadata": {
  "kernelspec": {
   "display_name": "Python 3",
   "language": "python",
   "name": "python3"
  },
  "language_info": {
   "codemirror_mode": {
    "name": "ipython",
    "version": 3
   },
   "file_extension": ".py",
   "mimetype": "text/x-python",
   "name": "python",
   "nbconvert_exporter": "python",
   "pygments_lexer": "ipython3",
   "version": "3.8.5"
  },
  "toc": {
   "base_numbering": 1,
   "nav_menu": {},
   "number_sections": true,
   "sideBar": true,
   "skip_h1_title": false,
   "title_cell": "Table of Contents",
   "title_sidebar": "Contents",
   "toc_cell": false,
   "toc_position": {},
   "toc_section_display": true,
   "toc_window_display": false
  }
 },
 "nbformat": 4,
 "nbformat_minor": 4
}

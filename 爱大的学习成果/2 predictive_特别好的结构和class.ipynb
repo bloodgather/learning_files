{
 "cells": [
  {
   "cell_type": "markdown",
   "metadata": {},
   "source": [
    "# Data Exploration"
   ]
  },
  {
   "cell_type": "markdown",
   "metadata": {},
   "source": [
    "## Loading data and Overview\n"
   ]
  },
  {
   "cell_type": "code",
   "execution_count": 1,
   "metadata": {},
   "outputs": [],
   "source": [
    "import pandas as pd\n",
    "import numpy as np\n",
    "import seaborn as sns\n",
    "import matplotlib.pyplot as plt"
   ]
  },
  {
   "cell_type": "code",
   "execution_count": 2,
   "metadata": {},
   "outputs": [
    {
     "name": "stderr",
     "output_type": "stream",
     "text": [
      "/tmp/ipykernel_204/3647059215.py:1: DtypeWarning: Columns (51,52) have mixed types. Specify dtype option on import or set low_memory=False.\n",
      "  df = pd.read_csv(\"CSdata.txt\", sep='\\t')\n"
     ]
    },
    {
     "data": {
      "text/html": [
       "<div>\n",
       "<style scoped>\n",
       "    .dataframe tbody tr th:only-of-type {\n",
       "        vertical-align: middle;\n",
       "    }\n",
       "\n",
       "    .dataframe tbody tr th {\n",
       "        vertical-align: top;\n",
       "    }\n",
       "\n",
       "    .dataframe thead th {\n",
       "        text-align: right;\n",
       "    }\n",
       "</style>\n",
       "<table border=\"1\" class=\"dataframe\">\n",
       "  <thead>\n",
       "    <tr style=\"text-align: right;\">\n",
       "      <th></th>\n",
       "      <th>ID_CLIENT</th>\n",
       "      <th>CLERK_TYPE</th>\n",
       "      <th>PAYMENT_DAY</th>\n",
       "      <th>APPLICATION_SUBMISSION_TYPE</th>\n",
       "      <th>QUANT_ADDITIONAL_CARDS</th>\n",
       "      <th>POSTAL_ADDRESS_TYPE</th>\n",
       "      <th>SEX</th>\n",
       "      <th>MARITAL_STATUS</th>\n",
       "      <th>QUANT_DEPENDANTS</th>\n",
       "      <th>EDUCATION_LEVEL</th>\n",
       "      <th>...</th>\n",
       "      <th>FLAG_HOME_ADDRESS_DOCUMENT</th>\n",
       "      <th>FLAG_RG</th>\n",
       "      <th>FLAG_CPF</th>\n",
       "      <th>FLAG_INCOME_PROOF</th>\n",
       "      <th>PRODUCT</th>\n",
       "      <th>FLAG_ACSP_RECORD</th>\n",
       "      <th>AGE</th>\n",
       "      <th>RESIDENCIAL_ZIP_3</th>\n",
       "      <th>PROFESSIONAL_ZIP_3</th>\n",
       "      <th>TARGET_LABEL_BAD=1</th>\n",
       "    </tr>\n",
       "  </thead>\n",
       "  <tbody>\n",
       "    <tr>\n",
       "      <th>0</th>\n",
       "      <td>1</td>\n",
       "      <td>C</td>\n",
       "      <td>5</td>\n",
       "      <td>Web</td>\n",
       "      <td>0</td>\n",
       "      <td>1</td>\n",
       "      <td>F</td>\n",
       "      <td>6</td>\n",
       "      <td>1</td>\n",
       "      <td>0</td>\n",
       "      <td>...</td>\n",
       "      <td>0</td>\n",
       "      <td>0</td>\n",
       "      <td>0</td>\n",
       "      <td>0</td>\n",
       "      <td>1</td>\n",
       "      <td>N</td>\n",
       "      <td>32</td>\n",
       "      <td>595</td>\n",
       "      <td>595</td>\n",
       "      <td>1</td>\n",
       "    </tr>\n",
       "    <tr>\n",
       "      <th>1</th>\n",
       "      <td>2</td>\n",
       "      <td>C</td>\n",
       "      <td>15</td>\n",
       "      <td>Carga</td>\n",
       "      <td>0</td>\n",
       "      <td>1</td>\n",
       "      <td>F</td>\n",
       "      <td>2</td>\n",
       "      <td>0</td>\n",
       "      <td>0</td>\n",
       "      <td>...</td>\n",
       "      <td>0</td>\n",
       "      <td>0</td>\n",
       "      <td>0</td>\n",
       "      <td>0</td>\n",
       "      <td>1</td>\n",
       "      <td>N</td>\n",
       "      <td>34</td>\n",
       "      <td>230</td>\n",
       "      <td>230</td>\n",
       "      <td>1</td>\n",
       "    </tr>\n",
       "    <tr>\n",
       "      <th>2</th>\n",
       "      <td>3</td>\n",
       "      <td>C</td>\n",
       "      <td>5</td>\n",
       "      <td>Web</td>\n",
       "      <td>0</td>\n",
       "      <td>1</td>\n",
       "      <td>F</td>\n",
       "      <td>2</td>\n",
       "      <td>0</td>\n",
       "      <td>0</td>\n",
       "      <td>...</td>\n",
       "      <td>0</td>\n",
       "      <td>0</td>\n",
       "      <td>0</td>\n",
       "      <td>0</td>\n",
       "      <td>1</td>\n",
       "      <td>N</td>\n",
       "      <td>27</td>\n",
       "      <td>591</td>\n",
       "      <td>591</td>\n",
       "      <td>0</td>\n",
       "    </tr>\n",
       "    <tr>\n",
       "      <th>3</th>\n",
       "      <td>4</td>\n",
       "      <td>C</td>\n",
       "      <td>20</td>\n",
       "      <td>Web</td>\n",
       "      <td>0</td>\n",
       "      <td>1</td>\n",
       "      <td>F</td>\n",
       "      <td>2</td>\n",
       "      <td>0</td>\n",
       "      <td>0</td>\n",
       "      <td>...</td>\n",
       "      <td>0</td>\n",
       "      <td>0</td>\n",
       "      <td>0</td>\n",
       "      <td>0</td>\n",
       "      <td>1</td>\n",
       "      <td>N</td>\n",
       "      <td>61</td>\n",
       "      <td>545</td>\n",
       "      <td>545</td>\n",
       "      <td>0</td>\n",
       "    </tr>\n",
       "    <tr>\n",
       "      <th>4</th>\n",
       "      <td>5</td>\n",
       "      <td>C</td>\n",
       "      <td>10</td>\n",
       "      <td>Web</td>\n",
       "      <td>0</td>\n",
       "      <td>1</td>\n",
       "      <td>M</td>\n",
       "      <td>2</td>\n",
       "      <td>0</td>\n",
       "      <td>0</td>\n",
       "      <td>...</td>\n",
       "      <td>0</td>\n",
       "      <td>0</td>\n",
       "      <td>0</td>\n",
       "      <td>0</td>\n",
       "      <td>1</td>\n",
       "      <td>N</td>\n",
       "      <td>48</td>\n",
       "      <td>235</td>\n",
       "      <td>235</td>\n",
       "      <td>1</td>\n",
       "    </tr>\n",
       "  </tbody>\n",
       "</table>\n",
       "<p>5 rows × 54 columns</p>\n",
       "</div>"
      ],
      "text/plain": [
       "   ID_CLIENT CLERK_TYPE  PAYMENT_DAY APPLICATION_SUBMISSION_TYPE  \\\n",
       "0          1          C            5                         Web   \n",
       "1          2          C           15                       Carga   \n",
       "2          3          C            5                         Web   \n",
       "3          4          C           20                         Web   \n",
       "4          5          C           10                         Web   \n",
       "\n",
       "   QUANT_ADDITIONAL_CARDS  POSTAL_ADDRESS_TYPE SEX  MARITAL_STATUS  \\\n",
       "0                       0                    1   F               6   \n",
       "1                       0                    1   F               2   \n",
       "2                       0                    1   F               2   \n",
       "3                       0                    1   F               2   \n",
       "4                       0                    1   M               2   \n",
       "\n",
       "   QUANT_DEPENDANTS  EDUCATION_LEVEL  ... FLAG_HOME_ADDRESS_DOCUMENT FLAG_RG  \\\n",
       "0                 1                0  ...                          0       0   \n",
       "1                 0                0  ...                          0       0   \n",
       "2                 0                0  ...                          0       0   \n",
       "3                 0                0  ...                          0       0   \n",
       "4                 0                0  ...                          0       0   \n",
       "\n",
       "   FLAG_CPF FLAG_INCOME_PROOF PRODUCT FLAG_ACSP_RECORD AGE RESIDENCIAL_ZIP_3  \\\n",
       "0         0                 0       1                N  32               595   \n",
       "1         0                 0       1                N  34               230   \n",
       "2         0                 0       1                N  27               591   \n",
       "3         0                 0       1                N  61               545   \n",
       "4         0                 0       1                N  48               235   \n",
       "\n",
       "   PROFESSIONAL_ZIP_3  TARGET_LABEL_BAD=1  \n",
       "0                 595                   1  \n",
       "1                 230                   1  \n",
       "2                 591                   0  \n",
       "3                 545                   0  \n",
       "4                 235                   1  \n",
       "\n",
       "[5 rows x 54 columns]"
      ]
     },
     "execution_count": 2,
     "metadata": {},
     "output_type": "execute_result"
    }
   ],
   "source": [
    "df = pd.read_csv(\"CSdata.txt\", sep='\\t')\n",
    "df.head()"
   ]
  },
  {
   "cell_type": "code",
   "execution_count": 3,
   "metadata": {
    "scrolled": true
   },
   "outputs": [
    {
     "data": {
      "text/plain": [
       "Index(['ID_CLIENT', 'CLERK_TYPE', 'PAYMENT_DAY', 'APPLICATION_SUBMISSION_TYPE',\n",
       "       'QUANT_ADDITIONAL_CARDS', 'POSTAL_ADDRESS_TYPE', 'SEX',\n",
       "       'MARITAL_STATUS', 'QUANT_DEPENDANTS', 'EDUCATION_LEVEL',\n",
       "       'STATE_OF_BIRTH', 'CITY_OF_BIRTH', 'NACIONALITY', 'RESIDENCIAL_STATE',\n",
       "       'RESIDENCIAL_CITY', 'RESIDENCIAL_BOROUGH', 'FLAG_RESIDENCIAL_PHONE',\n",
       "       'RESIDENCIAL_PHONE_AREA_CODE', 'RESIDENCE_TYPE', 'MONTHS_IN_RESIDENCE',\n",
       "       'FLAG_MOBILE_PHONE', 'FLAG_EMAIL', 'PERSONAL_MONTHLY_INCOME',\n",
       "       'OTHER_INCOMES', 'FLAG_VISA', 'FLAG_MASTERCARD', 'FLAG_DINERS',\n",
       "       'FLAG_AMERICAN_EXPRESS', 'FLAG_OTHER_CARDS', 'QUANT_BANKING_ACCOUNTS',\n",
       "       'QUANT_SPECIAL_BANKING_ACCOUNTS', 'PERSONAL_ASSETS_VALUE', 'QUANT_CARS',\n",
       "       'COMPANY', 'PROFESSIONAL_STATE', 'PROFESSIONAL_CITY',\n",
       "       'PROFESSIONAL_BOROUGH', 'FLAG_PROFESSIONAL_PHONE',\n",
       "       'PROFESSIONAL_PHONE_AREA_CODE', 'MONTHS_IN_THE_JOB', 'PROFESSION_CODE',\n",
       "       'OCCUPATION_TYPE', 'MATE_PROFESSION_CODE', 'EDUCATION_LEVEL.1',\n",
       "       'FLAG_HOME_ADDRESS_DOCUMENT', 'FLAG_RG', 'FLAG_CPF',\n",
       "       'FLAG_INCOME_PROOF', 'PRODUCT', 'FLAG_ACSP_RECORD', 'AGE',\n",
       "       'RESIDENCIAL_ZIP_3', 'PROFESSIONAL_ZIP_3', 'TARGET_LABEL_BAD=1'],\n",
       "      dtype='object')"
      ]
     },
     "execution_count": 3,
     "metadata": {},
     "output_type": "execute_result"
    }
   ],
   "source": [
    "df.columns"
   ]
  },
  {
   "cell_type": "code",
   "execution_count": 4,
   "metadata": {
    "scrolled": true
   },
   "outputs": [
    {
     "name": "stdout",
     "output_type": "stream",
     "text": [
      "<class 'pandas.core.frame.DataFrame'>\n",
      "RangeIndex: 50000 entries, 0 to 49999\n",
      "Data columns (total 54 columns):\n",
      " #   Column                          Non-Null Count  Dtype  \n",
      "---  ------                          --------------  -----  \n",
      " 0   ID_CLIENT                       50000 non-null  int64  \n",
      " 1   CLERK_TYPE                      50000 non-null  object \n",
      " 2   PAYMENT_DAY                     50000 non-null  int64  \n",
      " 3   APPLICATION_SUBMISSION_TYPE     50000 non-null  object \n",
      " 4   QUANT_ADDITIONAL_CARDS          50000 non-null  int64  \n",
      " 5   POSTAL_ADDRESS_TYPE             50000 non-null  int64  \n",
      " 6   SEX                             50000 non-null  object \n",
      " 7   MARITAL_STATUS                  50000 non-null  int64  \n",
      " 8   QUANT_DEPENDANTS                50000 non-null  int64  \n",
      " 9   EDUCATION_LEVEL                 50000 non-null  int64  \n",
      " 10  STATE_OF_BIRTH                  50000 non-null  object \n",
      " 11  CITY_OF_BIRTH                   50000 non-null  object \n",
      " 12  NACIONALITY                     50000 non-null  int64  \n",
      " 13  RESIDENCIAL_STATE               50000 non-null  object \n",
      " 14  RESIDENCIAL_CITY                50000 non-null  object \n",
      " 15  RESIDENCIAL_BOROUGH             50000 non-null  object \n",
      " 16  FLAG_RESIDENCIAL_PHONE          50000 non-null  object \n",
      " 17  RESIDENCIAL_PHONE_AREA_CODE     50000 non-null  object \n",
      " 18  RESIDENCE_TYPE                  48651 non-null  float64\n",
      " 19  MONTHS_IN_RESIDENCE             46223 non-null  float64\n",
      " 20  FLAG_MOBILE_PHONE               50000 non-null  object \n",
      " 21  FLAG_EMAIL                      50000 non-null  int64  \n",
      " 22  PERSONAL_MONTHLY_INCOME         50000 non-null  float64\n",
      " 23  OTHER_INCOMES                   50000 non-null  float64\n",
      " 24  FLAG_VISA                       50000 non-null  int64  \n",
      " 25  FLAG_MASTERCARD                 50000 non-null  int64  \n",
      " 26  FLAG_DINERS                     50000 non-null  int64  \n",
      " 27  FLAG_AMERICAN_EXPRESS           50000 non-null  int64  \n",
      " 28  FLAG_OTHER_CARDS                50000 non-null  int64  \n",
      " 29  QUANT_BANKING_ACCOUNTS          50000 non-null  int64  \n",
      " 30  QUANT_SPECIAL_BANKING_ACCOUNTS  50000 non-null  int64  \n",
      " 31  PERSONAL_ASSETS_VALUE           50000 non-null  float64\n",
      " 32  QUANT_CARS                      50000 non-null  int64  \n",
      " 33  COMPANY                         50000 non-null  object \n",
      " 34  PROFESSIONAL_STATE              50000 non-null  object \n",
      " 35  PROFESSIONAL_CITY               16217 non-null  object \n",
      " 36  PROFESSIONAL_BOROUGH            16217 non-null  object \n",
      " 37  FLAG_PROFESSIONAL_PHONE         50000 non-null  object \n",
      " 38  PROFESSIONAL_PHONE_AREA_CODE    50000 non-null  object \n",
      " 39  MONTHS_IN_THE_JOB               50000 non-null  int64  \n",
      " 40  PROFESSION_CODE                 42244 non-null  float64\n",
      " 41  OCCUPATION_TYPE                 42687 non-null  float64\n",
      " 42  MATE_PROFESSION_CODE            21116 non-null  float64\n",
      " 43  EDUCATION_LEVEL.1               17662 non-null  float64\n",
      " 44  FLAG_HOME_ADDRESS_DOCUMENT      50000 non-null  int64  \n",
      " 45  FLAG_RG                         50000 non-null  int64  \n",
      " 46  FLAG_CPF                        50000 non-null  int64  \n",
      " 47  FLAG_INCOME_PROOF               50000 non-null  int64  \n",
      " 48  PRODUCT                         50000 non-null  int64  \n",
      " 49  FLAG_ACSP_RECORD                50000 non-null  object \n",
      " 50  AGE                             50000 non-null  int64  \n",
      " 51  RESIDENCIAL_ZIP_3               50000 non-null  object \n",
      " 52  PROFESSIONAL_ZIP_3              50000 non-null  object \n",
      " 53  TARGET_LABEL_BAD=1              50000 non-null  int64  \n",
      "dtypes: float64(9), int64(25), object(20)\n",
      "memory usage: 20.6+ MB\n"
     ]
    }
   ],
   "source": [
    "df.info()"
   ]
  },
  {
   "cell_type": "code",
   "execution_count": 5,
   "metadata": {
    "scrolled": true
   },
   "outputs": [
    {
     "data": {
      "text/plain": [
       "ID_CLIENT                          0.00\n",
       "CLERK_TYPE                         0.00\n",
       "PAYMENT_DAY                        0.00\n",
       "APPLICATION_SUBMISSION_TYPE        0.00\n",
       "QUANT_ADDITIONAL_CARDS             0.00\n",
       "POSTAL_ADDRESS_TYPE                0.00\n",
       "SEX                                0.00\n",
       "MARITAL_STATUS                     0.00\n",
       "QUANT_DEPENDANTS                   0.00\n",
       "EDUCATION_LEVEL                    0.00\n",
       "STATE_OF_BIRTH                     0.00\n",
       "CITY_OF_BIRTH                      0.00\n",
       "NACIONALITY                        0.00\n",
       "RESIDENCIAL_STATE                  0.00\n",
       "RESIDENCIAL_CITY                   0.00\n",
       "RESIDENCIAL_BOROUGH                0.00\n",
       "FLAG_RESIDENCIAL_PHONE             0.00\n",
       "RESIDENCIAL_PHONE_AREA_CODE        0.00\n",
       "RESIDENCE_TYPE                     2.70\n",
       "MONTHS_IN_RESIDENCE                7.55\n",
       "FLAG_MOBILE_PHONE                  0.00\n",
       "FLAG_EMAIL                         0.00\n",
       "PERSONAL_MONTHLY_INCOME            0.00\n",
       "OTHER_INCOMES                      0.00\n",
       "FLAG_VISA                          0.00\n",
       "FLAG_MASTERCARD                    0.00\n",
       "FLAG_DINERS                        0.00\n",
       "FLAG_AMERICAN_EXPRESS              0.00\n",
       "FLAG_OTHER_CARDS                   0.00\n",
       "QUANT_BANKING_ACCOUNTS             0.00\n",
       "QUANT_SPECIAL_BANKING_ACCOUNTS     0.00\n",
       "PERSONAL_ASSETS_VALUE              0.00\n",
       "QUANT_CARS                         0.00\n",
       "COMPANY                            0.00\n",
       "PROFESSIONAL_STATE                 0.00\n",
       "PROFESSIONAL_CITY                 67.57\n",
       "PROFESSIONAL_BOROUGH              67.57\n",
       "FLAG_PROFESSIONAL_PHONE            0.00\n",
       "PROFESSIONAL_PHONE_AREA_CODE       0.00\n",
       "MONTHS_IN_THE_JOB                  0.00\n",
       "PROFESSION_CODE                   15.51\n",
       "OCCUPATION_TYPE                   14.63\n",
       "MATE_PROFESSION_CODE              57.77\n",
       "EDUCATION_LEVEL.1                 64.68\n",
       "FLAG_HOME_ADDRESS_DOCUMENT         0.00\n",
       "FLAG_RG                            0.00\n",
       "FLAG_CPF                           0.00\n",
       "FLAG_INCOME_PROOF                  0.00\n",
       "PRODUCT                            0.00\n",
       "FLAG_ACSP_RECORD                   0.00\n",
       "AGE                                0.00\n",
       "RESIDENCIAL_ZIP_3                  0.00\n",
       "PROFESSIONAL_ZIP_3                 0.00\n",
       "TARGET_LABEL_BAD=1                 0.00\n",
       "dtype: float64"
      ]
     },
     "execution_count": 5,
     "metadata": {},
     "output_type": "execute_result"
    }
   ],
   "source": [
    "# Checking the columns with NA values (%)\n",
    "round(df.isna().sum()*100/df.shape[0],2)"
   ]
  },
  {
   "cell_type": "markdown",
   "metadata": {},
   "source": [
    "----"
   ]
  },
  {
   "cell_type": "markdown",
   "metadata": {},
   "source": [
    "## Column 1-10"
   ]
  },
  {
   "cell_type": "code",
   "execution_count": 6,
   "metadata": {},
   "outputs": [
    {
     "data": {
      "text/plain": [
       "50000"
      ]
     },
     "execution_count": 6,
     "metadata": {},
     "output_type": "execute_result"
    }
   ],
   "source": [
    "df['ID_CLIENT'].nunique()  ##all unique, no duplicates"
   ]
  },
  {
   "cell_type": "code",
   "execution_count": 7,
   "metadata": {},
   "outputs": [
    {
     "data": {
      "text/plain": [
       "C    50000\n",
       "Name: CLERK_TYPE, dtype: int64"
      ]
     },
     "execution_count": 7,
     "metadata": {},
     "output_type": "execute_result"
    }
   ],
   "source": [
    "df['CLERK_TYPE'].value_counts()  ##not informed, all C ; can be dropped"
   ]
  },
  {
   "cell_type": "code",
   "execution_count": 8,
   "metadata": {},
   "outputs": [
    {
     "data": {
      "text/plain": [
       "10    20422\n",
       "15     8750\n",
       "5      7347\n",
       "25     7026\n",
       "20     4694\n",
       "1      1761\n",
       "Name: PAYMENT_DAY, dtype: int64"
      ]
     },
     "execution_count": 8,
     "metadata": {},
     "output_type": "execute_result"
    }
   ],
   "source": [
    "df['PAYMENT_DAY'].value_counts() ##all values make sense"
   ]
  },
  {
   "cell_type": "code",
   "execution_count": 9,
   "metadata": {},
   "outputs": [
    {
     "data": {
      "text/plain": [
       "10    40.84\n",
       "15    17.50\n",
       "5     14.69\n",
       "25    14.05\n",
       "20     9.39\n",
       "1      3.52\n",
       "Name: PAYMENT_DAY, dtype: float64"
      ]
     },
     "execution_count": 9,
     "metadata": {},
     "output_type": "execute_result"
    }
   ],
   "source": [
    "round((df['PAYMENT_DAY'].value_counts()/50000)*100,2)"
   ]
  },
  {
   "cell_type": "code",
   "execution_count": 10,
   "metadata": {},
   "outputs": [
    {
     "data": {
      "text/plain": [
       "Web      56.41\n",
       "0        38.92\n",
       "Carga     4.67\n",
       "Name: APPLICATION_SUBMISSION_TYPE, dtype: float64"
      ]
     },
     "execution_count": 10,
     "metadata": {},
     "output_type": "execute_result"
    }
   ],
   "source": [
    "round((df['APPLICATION_SUBMISSION_TYPE'].value_counts()/50000)*100,2) #imbalance; a lot of null values"
   ]
  },
  {
   "cell_type": "code",
   "execution_count": 11,
   "metadata": {},
   "outputs": [
    {
     "data": {
      "text/plain": [
       "0    100.0\n",
       "Name: QUANT_ADDITIONAL_CARDS, dtype: float64"
      ]
     },
     "execution_count": 11,
     "metadata": {},
     "output_type": "execute_result"
    }
   ],
   "source": [
    "round((df['QUANT_ADDITIONAL_CARDS'].value_counts()/50000)*100,2) ##all 0, can be dropped"
   ]
  },
  {
   "cell_type": "code",
   "execution_count": 12,
   "metadata": {},
   "outputs": [
    {
     "data": {
      "text/plain": [
       "1    99.35\n",
       "2     0.65\n",
       "Name: POSTAL_ADDRESS_TYPE, dtype: float64"
      ]
     },
     "execution_count": 12,
     "metadata": {},
     "output_type": "execute_result"
    }
   ],
   "source": [
    "round((df['POSTAL_ADDRESS_TYPE'].value_counts()/50000)*100,2)  ##encoding not informed  ## imbalance"
   ]
  },
  {
   "cell_type": "code",
   "execution_count": 13,
   "metadata": {},
   "outputs": [
    {
     "data": {
      "text/plain": [
       "F    61.61\n",
       "M    38.26\n",
       "N     0.10\n",
       "      0.03\n",
       "Name: SEX, dtype: float64"
      ]
     },
     "execution_count": 13,
     "metadata": {},
     "output_type": "execute_result"
    }
   ],
   "source": [
    "round((df['SEX'].value_counts()/50000)*100,2) ##Imbalance; N == ' ' i think?"
   ]
  },
  {
   "cell_type": "code",
   "execution_count": 14,
   "metadata": {},
   "outputs": [
    {
     "data": {
      "text/plain": [
       "2    51.93\n",
       "1    30.57\n",
       "4     8.41\n",
       "6     3.75\n",
       "5     2.59\n",
       "3     1.26\n",
       "7     1.07\n",
       "0     0.40\n",
       "Name: MARITAL_STATUS, dtype: float64"
      ]
     },
     "execution_count": 14,
     "metadata": {},
     "output_type": "execute_result"
    }
   ],
   "source": [
    "round((df['MARITAL_STATUS'].value_counts()/50000)*100,2)  ##encoding not informed, cannot differentiate; imbalance "
   ]
  },
  {
   "cell_type": "code",
   "execution_count": 15,
   "metadata": {
    "scrolled": true
   },
   "outputs": [
    {
     "data": {
      "text/plain": [
       "0     67.31\n",
       "1     14.01\n",
       "2     10.73\n",
       "3      4.93\n",
       "4      1.72\n",
       "5      0.73\n",
       "6      0.28\n",
       "7      0.13\n",
       "8      0.07\n",
       "9      0.03\n",
       "10     0.03\n",
       "11     0.01\n",
       "12     0.01\n",
       "13     0.01\n",
       "14     0.01\n",
       "15     0.00\n",
       "53     0.00\n",
       "Name: QUANT_DEPENDANTS, dtype: float64"
      ]
     },
     "execution_count": 15,
     "metadata": {},
     "output_type": "execute_result"
    }
   ],
   "source": [
    "round((df['QUANT_DEPENDANTS'].value_counts()/50000)*100,2) #Imbalance; the number of dependants in a family"
   ]
  },
  {
   "cell_type": "code",
   "execution_count": 16,
   "metadata": {},
   "outputs": [
    {
     "data": {
      "text/plain": [
       "0    100.0\n",
       "Name: EDUCATION_LEVEL, dtype: float64"
      ]
     },
     "execution_count": 16,
     "metadata": {},
     "output_type": "execute_result"
    }
   ],
   "source": [
    "round((df['EDUCATION_LEVEL'].value_counts()/50000)*100,2) #all 0, can be dropped"
   ]
  },
  {
   "cell_type": "markdown",
   "metadata": {},
   "source": [
    "## Column 11-20"
   ]
  },
  {
   "cell_type": "code",
   "execution_count": 17,
   "metadata": {},
   "outputs": [
    {
     "data": {
      "text/plain": [
       "28"
      ]
     },
     "execution_count": 17,
     "metadata": {},
     "output_type": "execute_result"
    }
   ],
   "source": [
    "# Unknown as a group? Brazilian states\n",
    "df['STATE_OF_BIRTH'] = df['STATE_OF_BIRTH'].replace(\" \", np.nan).replace(\"XX\", np.nan).str.upper()\n",
    "len(df['STATE_OF_BIRTH'].unique())"
   ]
  },
  {
   "cell_type": "code",
   "execution_count": 18,
   "metadata": {},
   "outputs": [
    {
     "data": {
      "text/plain": [
       "7414"
      ]
     },
     "execution_count": 18,
     "metadata": {},
     "output_type": "execute_result"
    }
   ],
   "source": [
    "df['CITY_OF_BIRTH'] = df['CITY_OF_BIRTH'].str.lower()\n",
    "len(df['CITY_OF_BIRTH'].unique())"
   ]
  },
  {
   "cell_type": "code",
   "execution_count": 19,
   "metadata": {},
   "outputs": [
    {
     "data": {
      "text/plain": [
       "True     47884\n",
       "False     2116\n",
       "Name: NACIONALITY, dtype: int64"
      ]
     },
     "execution_count": 19,
     "metadata": {},
     "output_type": "execute_result"
    }
   ],
   "source": [
    "df['NACIONALITY'] = df.NACIONALITY.replace(2,0).replace(1,True).replace(0,False)\n",
    "df['NACIONALITY'].value_counts()\n",
    "##Country of birth. Encoding not informed but Brazil is likely to be equal 1."
   ]
  },
  {
   "cell_type": "code",
   "execution_count": 20,
   "metadata": {},
   "outputs": [
    {
     "data": {
      "text/plain": [
       "2483"
      ]
     },
     "execution_count": 20,
     "metadata": {},
     "output_type": "execute_result"
    }
   ],
   "source": [
    "df['RESIDENCIAL_CITY'] = df.RESIDENCIAL_CITY.str.lower()\n",
    "len(df['RESIDENCIAL_CITY'].unique())"
   ]
  },
  {
   "cell_type": "code",
   "execution_count": 21,
   "metadata": {},
   "outputs": [
    {
     "data": {
      "text/plain": [
       "11815"
      ]
     },
     "execution_count": 21,
     "metadata": {},
     "output_type": "execute_result"
    }
   ],
   "source": [
    "df['RESIDENCIAL_BOROUGH'] = df.RESIDENCIAL_BOROUGH.str.lower()\n",
    "len(df['RESIDENCIAL_BOROUGH'].unique())"
   ]
  },
  {
   "cell_type": "code",
   "execution_count": 22,
   "metadata": {},
   "outputs": [
    {
     "data": {
      "text/plain": [
       "True     41809\n",
       "False     8191\n",
       "Name: FLAG_RESIDENCIAL_PHONE, dtype: int64"
      ]
     },
     "execution_count": 22,
     "metadata": {},
     "output_type": "execute_result"
    }
   ],
   "source": [
    "df['FLAG_RESIDENCIAL_PHONE'] = df.FLAG_RESIDENCIAL_PHONE.replace(\"Y\",True).replace(\"N\",False)\n",
    "df.FLAG_RESIDENCIAL_PHONE.value_counts()\n",
    "##Indicates if the applicant possesses a home phone"
   ]
  },
  {
   "cell_type": "code",
   "execution_count": 23,
   "metadata": {},
   "outputs": [
    {
     "data": {
      "text/plain": [
       "102"
      ]
     },
     "execution_count": 23,
     "metadata": {},
     "output_type": "execute_result"
    }
   ],
   "source": [
    "df.RESIDENCIAL_PHONE_AREA_CODE = df.RESIDENCIAL_PHONE_AREA_CODE.replace(\" \",np.nan)\n",
    "len(df['RESIDENCIAL_PHONE_AREA_CODE'].unique())"
   ]
  },
  {
   "cell_type": "code",
   "execution_count": 24,
   "metadata": {},
   "outputs": [
    {
     "data": {
      "text/plain": [
       "1.0    41572\n",
       "2.0     3884\n",
       "5.0     1983\n",
       "NaN     1349\n",
       "0.0      760\n",
       "4.0      311\n",
       "3.0      141\n",
       "Name: RESIDENCE_TYPE, dtype: int64"
      ]
     },
     "execution_count": 24,
     "metadata": {},
     "output_type": "execute_result"
    }
   ],
   "source": [
    "# Residence type: owned, mortgage, rented, parents, family\n",
    "# figure out what type is 1 convert to binary? \n",
    "df.RESIDENCE_TYPE.value_counts(dropna=False)"
   ]
  },
  {
   "cell_type": "code",
   "execution_count": 25,
   "metadata": {},
   "outputs": [
    {
     "name": "stdout",
     "output_type": "stream",
     "text": [
      "False    46223\n",
      "True      3777\n",
      "Name: MONTHS_IN_RESIDENCE, dtype: int64\n"
     ]
    },
    {
     "name": "stderr",
     "output_type": "stream",
     "text": [
      "/opt/conda/lib/python3.9/site-packages/seaborn/distributions.py:2619: FutureWarning: `distplot` is a deprecated function and will be removed in a future version. Please adapt your code to use either `displot` (a figure-level function with similar flexibility) or `histplot` (an axes-level function for histograms).\n",
      "  warnings.warn(msg, FutureWarning)\n"
     ]
    },
    {
     "data": {
      "text/plain": [
       "<AxesSubplot:xlabel='MONTHS_IN_RESIDENCE', ylabel='Density'>"
      ]
     },
     "execution_count": 25,
     "metadata": {},
     "output_type": "execute_result"
    },
    {
     "data": {
      "image/png": "[encoded data removed]",
      "text/plain": [
       "<Figure size 432x288 with 1 Axes>"
      ]
     },
     "metadata": {
      "needs_background": "light"
     },
     "output_type": "display_data"
    }
   ],
   "source": [
    "print(df.MONTHS_IN_RESIDENCE.isna().value_counts())\n",
    "df.MONTHS_IN_RESIDENCE = df.MONTHS_IN_RESIDENCE.fillna(df.MONTHS_IN_RESIDENCE.mean())\n",
    "sns.distplot(df.MONTHS_IN_RESIDENCE)"
   ]
  },
  {
   "cell_type": "markdown",
   "metadata": {},
   "source": [
    "## Column 21-30"
   ]
  },
  {
   "cell_type": "code",
   "execution_count": 26,
   "metadata": {},
   "outputs": [
    {
     "data": {
      "text/plain": [
       "N    50000\n",
       "Name: FLAG_MOBILE_PHONE, dtype: int64"
      ]
     },
     "execution_count": 26,
     "metadata": {},
     "output_type": "execute_result"
    }
   ],
   "source": [
    "df.FLAG_MOBILE_PHONE.value_counts()\n",
    "#count how many applicant have phone number, can be dropped"
   ]
  },
  {
   "cell_type": "code",
   "execution_count": 27,
   "metadata": {},
   "outputs": [
    {
     "data": {
      "text/plain": [
       "1    40114\n",
       "0     9886\n",
       "Name: FLAG_EMAIL, dtype: int64"
      ]
     },
     "execution_count": 27,
     "metadata": {},
     "output_type": "execute_result"
    }
   ],
   "source": [
    "df.FLAG_EMAIL.value_counts()\n",
    "#count how many applicant have email"
   ]
  },
  {
   "cell_type": "code",
   "execution_count": 28,
   "metadata": {},
   "outputs": [
    {
     "data": {
      "text/plain": [
       "count     50000.000000\n",
       "mean        886.678437\n",
       "std        7846.959327\n",
       "min          60.000000\n",
       "25%         360.000000\n",
       "50%         500.000000\n",
       "75%         800.000000\n",
       "max      959000.000000\n",
       "Name: PERSONAL_MONTHLY_INCOME, dtype: float64"
      ]
     },
     "execution_count": 28,
     "metadata": {},
     "output_type": "execute_result"
    }
   ],
   "source": [
    "df.PERSONAL_MONTHLY_INCOME.describe()"
   ]
  },
  {
   "cell_type": "code",
   "execution_count": 29,
   "metadata": {},
   "outputs": [
    {
     "data": {
      "text/plain": [
       "count     50000.000000\n",
       "mean         35.434760\n",
       "std         891.515142\n",
       "min           0.000000\n",
       "25%           0.000000\n",
       "50%           0.000000\n",
       "75%           0.000000\n",
       "max      194344.000000\n",
       "Name: OTHER_INCOMES, dtype: float64"
      ]
     },
     "execution_count": 29,
     "metadata": {},
     "output_type": "execute_result"
    }
   ],
   "source": [
    "df.OTHER_INCOMES.describe()"
   ]
  },
  {
   "cell_type": "code",
   "execution_count": 30,
   "metadata": {},
   "outputs": [
    {
     "data": {
      "text/plain": [
       "0    44428\n",
       "1     5572\n",
       "Name: FLAG_VISA, dtype: int64"
      ]
     },
     "execution_count": 30,
     "metadata": {},
     "output_type": "execute_result"
    }
   ],
   "source": [
    "df.FLAG_VISA.value_counts()\n",
    "#to see if the applicant is a visa credit card holder"
   ]
  },
  {
   "cell_type": "code",
   "execution_count": 31,
   "metadata": {},
   "outputs": [
    {
     "data": {
      "text/plain": [
       "0    45127\n",
       "1     4873\n",
       "Name: FLAG_MASTERCARD, dtype: int64"
      ]
     },
     "execution_count": 31,
     "metadata": {},
     "output_type": "execute_result"
    }
   ],
   "source": [
    "df.FLAG_MASTERCARD.value_counts()\n",
    "#to see if the applicant is a mastercard credit card holder"
   ]
  },
  {
   "cell_type": "code",
   "execution_count": 32,
   "metadata": {},
   "outputs": [
    {
     "data": {
      "text/plain": [
       "0    49934\n",
       "1       66\n",
       "Name: FLAG_DINERS, dtype: int64"
      ]
     },
     "execution_count": 32,
     "metadata": {},
     "output_type": "execute_result"
    }
   ],
   "source": [
    "df.FLAG_DINERS.value_counts()\n",
    "#to see if th applicant is a siners credit card holder"
   ]
  },
  {
   "cell_type": "code",
   "execution_count": 33,
   "metadata": {},
   "outputs": [
    {
     "data": {
      "text/plain": [
       "0    49913\n",
       "1       87\n",
       "Name: FLAG_AMERICAN_EXPRESS, dtype: int64"
      ]
     },
     "execution_count": 33,
     "metadata": {},
     "output_type": "execute_result"
    }
   ],
   "source": [
    "df.FLAG_AMERICAN_EXPRESS.value_counts()\n",
    "#to see if the applicant is a american express credit card holder"
   ]
  },
  {
   "cell_type": "code",
   "execution_count": 34,
   "metadata": {},
   "outputs": [
    {
     "data": {
      "text/plain": [
       "0    49898\n",
       "1      102\n",
       "Name: FLAG_OTHER_CARDS, dtype: int64"
      ]
     },
     "execution_count": 34,
     "metadata": {},
     "output_type": "execute_result"
    }
   ],
   "source": [
    "df.FLAG_OTHER_CARDS.value_counts()\n",
    "#to see if the applicant have other kinds of credit card"
   ]
  },
  {
   "cell_type": "code",
   "execution_count": 35,
   "metadata": {},
   "outputs": [
    {
     "data": {
      "text/plain": [
       "0    32122\n",
       "1    17864\n",
       "2       14\n",
       "Name: QUANT_BANKING_ACCOUNTS, dtype: int64"
      ]
     },
     "execution_count": 35,
     "metadata": {},
     "output_type": "execute_result"
    }
   ],
   "source": [
    "df.QUANT_BANKING_ACCOUNTS.value_counts()\n",
    "#quantity of banking accounts"
   ]
  },
  {
   "cell_type": "markdown",
   "metadata": {},
   "source": [
    "## Column 31-40"
   ]
  },
  {
   "cell_type": "code",
   "execution_count": 36,
   "metadata": {},
   "outputs": [
    {
     "data": {
      "text/plain": [
       "0    32122\n",
       "1    17864\n",
       "2       14\n",
       "Name: QUANT_SPECIAL_BANKING_ACCOUNTS, dtype: int64"
      ]
     },
     "execution_count": 36,
     "metadata": {},
     "output_type": "execute_result"
    }
   ],
   "source": [
    "df['QUANT_SPECIAL_BANKING_ACCOUNTS'].value_counts()"
   ]
  },
  {
   "cell_type": "code",
   "execution_count": 37,
   "metadata": {},
   "outputs": [
    {
     "data": {
      "text/plain": [
       "count      50000.00000\n",
       "mean        2322.37238\n",
       "std        42357.98440\n",
       "min            0.00000\n",
       "25%            0.00000\n",
       "50%            0.00000\n",
       "75%            0.00000\n",
       "max      6000000.00000\n",
       "Name: PERSONAL_ASSETS_VALUE, dtype: object"
      ]
     },
     "execution_count": 37,
     "metadata": {},
     "output_type": "execute_result"
    }
   ],
   "source": [
    "df['PERSONAL_ASSETS_VALUE'].describe().apply(lambda x: '%.5f' % x)"
   ]
  },
  {
   "cell_type": "code",
   "execution_count": 38,
   "metadata": {},
   "outputs": [
    {
     "data": {
      "text/plain": [
       "0.0         47609\n",
       "30000.0       222\n",
       "25000.0       198\n",
       "50000.0       196\n",
       "15000.0       185\n",
       "            ...  \n",
       "140000.0        1\n",
       "27000.0         1\n",
       "18500.0         1\n",
       "8900.0          1\n",
       "10500.0         1\n",
       "Name: PERSONAL_ASSETS_VALUE, Length: 153, dtype: int64"
      ]
     },
     "execution_count": 38,
     "metadata": {},
     "output_type": "execute_result"
    }
   ],
   "source": [
    "df['PERSONAL_ASSETS_VALUE'].value_counts()"
   ]
  },
  {
   "cell_type": "code",
   "execution_count": 39,
   "metadata": {},
   "outputs": [
    {
     "data": {
      "text/plain": [
       "count       2390.00000\n",
       "mean       48585.19582\n",
       "std       187887.92469\n",
       "min            5.00000\n",
       "25%        19000.00000\n",
       "50%        30000.00000\n",
       "75%        50000.00000\n",
       "max      6000000.00000\n",
       "Name: PERSONAL_ASSETS_VALUE, dtype: object"
      ]
     },
     "execution_count": 39,
     "metadata": {},
     "output_type": "execute_result"
    }
   ],
   "source": [
    "df[df['PERSONAL_ASSETS_VALUE'] > 1]['PERSONAL_ASSETS_VALUE'].describe().apply(lambda x: '%.5f' % x)"
   ]
  },
  {
   "cell_type": "code",
   "execution_count": 40,
   "metadata": {},
   "outputs": [
    {
     "data": {
      "text/plain": [
       "0    33193\n",
       "1    16807\n",
       "Name: QUANT_CARS, dtype: int64"
      ]
     },
     "execution_count": 40,
     "metadata": {},
     "output_type": "execute_result"
    }
   ],
   "source": [
    "df['QUANT_CARS'].value_counts()"
   ]
  },
  {
   "cell_type": "code",
   "execution_count": 41,
   "metadata": {},
   "outputs": [
    {
     "data": {
      "text/plain": [
       "N    27959\n",
       "Y    22041\n",
       "Name: COMPANY, dtype: int64"
      ]
     },
     "execution_count": 41,
     "metadata": {},
     "output_type": "execute_result"
    }
   ],
   "source": [
    "df['COMPANY'].value_counts()"
   ]
  },
  {
   "cell_type": "code",
   "execution_count": 42,
   "metadata": {},
   "outputs": [
    {
     "data": {
      "text/plain": [
       "      34307\n",
       "SP     2400\n",
       "RS     2092\n",
       "CE     1420\n",
       "BA     1387\n",
       "MG     1251\n",
       "PE      902\n",
       "PA      710\n",
       "PR      582\n",
       "RJ      570\n",
       "MT      553\n",
       "RN      492\n",
       "GO      484\n",
       "PB      373\n",
       "MS      352\n",
       "AL      337\n",
       "SC      299\n",
       "DF      271\n",
       "ES      228\n",
       "AP      186\n",
       "MA      184\n",
       "RO      170\n",
       "AM      134\n",
       "PI      100\n",
       "AC       80\n",
       "SE       62\n",
       "TO       58\n",
       "RR       16\n",
       "Name: PROFESSIONAL_STATE, dtype: int64"
      ]
     },
     "execution_count": 42,
     "metadata": {},
     "output_type": "execute_result"
    }
   ],
   "source": [
    "df['PROFESSIONAL_STATE'].value_counts()"
   ]
  },
  {
   "cell_type": "code",
   "execution_count": 43,
   "metadata": {},
   "outputs": [
    {
     "data": {
      "text/plain": [
       "Index([' ', 'SP', 'RS', 'CE', 'BA', 'MG', 'PE', 'PA', 'PR', 'RJ', 'MT', 'RN',\n",
       "       'GO', 'PB', 'MS', 'AL', 'SC', 'DF', 'ES', 'AP', 'MA', 'RO', 'AM', 'PI',\n",
       "       'AC', 'SE', 'TO', 'RR'],\n",
       "      dtype='object')"
      ]
     },
     "execution_count": 43,
     "metadata": {},
     "output_type": "execute_result"
    }
   ],
   "source": [
    "df['PROFESSIONAL_STATE'].value_counts().index"
   ]
  },
  {
   "cell_type": "code",
   "execution_count": 44,
   "metadata": {},
   "outputs": [
    {
     "data": {
      "text/plain": [
       "33783"
      ]
     },
     "execution_count": 44,
     "metadata": {},
     "output_type": "execute_result"
    }
   ],
   "source": [
    "df['PROFESSIONAL_CITY'].isna().sum()"
   ]
  },
  {
   "cell_type": "code",
   "execution_count": 45,
   "metadata": {},
   "outputs": [
    {
     "data": {
      "text/plain": [
       "FORTALEZA               419\n",
       "SAO PAULO               338\n",
       "                        331\n",
       "PELOTAS                 324\n",
       "PORTO ALEGRE            279\n",
       "                       ... \n",
       "SANTIAGO                  1\n",
       "JUNDIA                    1\n",
       "SAO JOSE DO  ALEGRE       1\n",
       "imbe                      1\n",
       "conselheiro lafaiete      1\n",
       "Name: PROFESSIONAL_CITY, Length: 2236, dtype: int64"
      ]
     },
     "execution_count": 45,
     "metadata": {},
     "output_type": "execute_result"
    }
   ],
   "source": [
    "df['PROFESSIONAL_CITY'].value_counts()"
   ]
  },
  {
   "cell_type": "code",
   "execution_count": 46,
   "metadata": {},
   "outputs": [
    {
     "name": "stdout",
     "output_type": "stream",
     "text": [
      "Index(['FORTALEZA', 'SAO PAULO', ' ', 'PELOTAS', 'PORTO ALEGRE', 'Sao Paulo',\n",
      "       'SALVADOR', 'RECIFE', 'RIO DE JANEIRO', 'NATAL',\n",
      "       ...\n",
      "       'SAO FRANCISCO DO GUAPORE', 'SERRA BRANCA', 'Alvta Floresta',\n",
      "       'Cataguases', 'ILHUES', 'SANTIAGO', 'JUNDIA', 'SAO JOSE DO  ALEGRE',\n",
      "       'imbe', 'conselheiro lafaiete'],\n",
      "      dtype='object', length=2236)\n"
     ]
    }
   ],
   "source": [
    "print(df['PROFESSIONAL_CITY'].value_counts().index)"
   ]
  },
  {
   "cell_type": "code",
   "execution_count": 47,
   "metadata": {},
   "outputs": [
    {
     "data": {
      "text/plain": [
       "33783"
      ]
     },
     "execution_count": 47,
     "metadata": {},
     "output_type": "execute_result"
    }
   ],
   "source": [
    "df['PROFESSIONAL_BOROUGH'].isna().sum()"
   ]
  },
  {
   "cell_type": "code",
   "execution_count": 48,
   "metadata": {},
   "outputs": [
    {
     "data": {
      "text/plain": [
       "N    36510\n",
       "Y    13490\n",
       "Name: FLAG_PROFESSIONAL_PHONE, dtype: int64"
      ]
     },
     "execution_count": 48,
     "metadata": {},
     "output_type": "execute_result"
    }
   ],
   "source": [
    "df['FLAG_PROFESSIONAL_PHONE'].value_counts()"
   ]
  },
  {
   "cell_type": "code",
   "execution_count": 49,
   "metadata": {},
   "outputs": [
    {
     "data": {
      "text/plain": [
       "       36532\n",
       "5       1457\n",
       "54      1109\n",
       "107      981\n",
       "97       644\n",
       "       ...  \n",
       "55         1\n",
       "96         1\n",
       "19         1\n",
       "37         1\n",
       "17         1\n",
       "Name: PROFESSIONAL_PHONE_AREA_CODE, Length: 87, dtype: int64"
      ]
     },
     "execution_count": 49,
     "metadata": {},
     "output_type": "execute_result"
    }
   ],
   "source": [
    "df['PROFESSIONAL_PHONE_AREA_CODE'].value_counts()"
   ]
  },
  {
   "cell_type": "code",
   "execution_count": 50,
   "metadata": {},
   "outputs": [
    {
     "data": {
      "text/plain": [
       "0     49924\n",
       "2        18\n",
       "1        15\n",
       "3        12\n",
       "5         6\n",
       "4         4\n",
       "8         2\n",
       "12        2\n",
       "18        2\n",
       "7         2\n",
       "14        2\n",
       "6         2\n",
       "10        1\n",
       "30        1\n",
       "9         1\n",
       "19        1\n",
       "32        1\n",
       "27        1\n",
       "26        1\n",
       "35        1\n",
       "15        1\n",
       "Name: MONTHS_IN_THE_JOB, dtype: int64"
      ]
     },
     "execution_count": 50,
     "metadata": {},
     "output_type": "execute_result"
    }
   ],
   "source": [
    "df['MONTHS_IN_THE_JOB'].value_counts()"
   ]
  },
  {
   "cell_type": "markdown",
   "metadata": {},
   "source": [
    "## Column 41-53"
   ]
  },
  {
   "cell_type": "code",
   "execution_count": 51,
   "metadata": {},
   "outputs": [
    {
     "data": {
      "text/plain": [
       "9.0     30092\n",
       "11.0     3545\n",
       "0.0      3540\n",
       "2.0      2827\n",
       "12.0      489\n",
       "10.0      425\n",
       "16.0      344\n",
       "13.0      313\n",
       "7.0       216\n",
       "8.0       144\n",
       "6.0       136\n",
       "15.0       63\n",
       "17.0       35\n",
       "4.0        27\n",
       "3.0        18\n",
       "5.0        12\n",
       "14.0        9\n",
       "1.0         8\n",
       "18.0        1\n",
       "Name: PROFESSION_CODE, dtype: int64"
      ]
     },
     "execution_count": 51,
     "metadata": {},
     "output_type": "execute_result"
    }
   ],
   "source": [
    "df.PROFESSION_CODE.value_counts()\n",
    "# profession code: represent the applicant's profession, no encoding, {0,1,2...18}, integer-valued"
   ]
  },
  {
   "cell_type": "code",
   "execution_count": 52,
   "metadata": {
    "colab": {
     "base_uri": "https://localhost:8080/"
    },
    "id": "gVgfnS2TxKyz",
    "outputId": "9d9684b9-eed3-4c13-d2c0-1e281142d612"
   },
   "outputs": [
    {
     "data": {
      "text/plain": [
       "2.0    16947\n",
       "1.0     8742\n",
       "4.0     7000\n",
       "5.0     6891\n",
       "0.0     2788\n",
       "3.0      319\n",
       "Name: OCCUPATION_TYPE, dtype: int64"
      ]
     },
     "execution_count": 52,
     "metadata": {},
     "output_type": "execute_result"
    }
   ],
   "source": [
    "df.OCCUPATION_TYPE.value_counts()\n",
    "# occupation type: represent the applicant's occupation, no encoding, {0,1,2,3,4,5,NULL}"
   ]
  },
  {
   "cell_type": "code",
   "execution_count": 53,
   "metadata": {
    "colab": {
     "base_uri": "https://localhost:8080/"
    },
    "id": "__CEYgsbxsg1",
    "outputId": "3c5d0180-5157-4de7-86dd-f08c0c518303"
   },
   "outputs": [
    {
     "data": {
      "text/plain": [
       "0.0     13632\n",
       "11.0     6005\n",
       "9.0      1035\n",
       "16.0      208\n",
       "2.0       110\n",
       "12.0       34\n",
       "10.0       31\n",
       "6.0        16\n",
       "13.0       15\n",
       "7.0        11\n",
       "8.0         7\n",
       "15.0        3\n",
       "17.0        3\n",
       "14.0        2\n",
       "5.0         1\n",
       "1.0         1\n",
       "3.0         1\n",
       "4.0         1\n",
       "Name: MATE_PROFESSION_CODE, dtype: int64"
      ]
     },
     "execution_count": 53,
     "metadata": {},
     "output_type": "execute_result"
    }
   ],
   "source": [
    "df.MATE_PROFESSION_CODE.value_counts()\n",
    "# mate profession code: represent the profession of the mate of applicant, no encoding,{0,1,2...17}, integer-valued"
   ]
  },
  {
   "cell_type": "code",
   "execution_count": 54,
   "metadata": {
    "colab": {
     "base_uri": "https://localhost:8080/",
     "height": 131
    },
    "id": "GsfFV9cvyRIH",
    "outputId": "62b05036-f879-4b16-950e-6f0afc9585b0",
    "scrolled": true
   },
   "outputs": [
    {
     "data": {
      "text/plain": [
       "0.0    15995\n",
       "3.0      621\n",
       "4.0      615\n",
       "2.0      342\n",
       "1.0       56\n",
       "5.0       33\n",
       "Name: EDUCATION_LEVEL.1, dtype: int64"
      ]
     },
     "execution_count": 54,
     "metadata": {},
     "output_type": "execute_result"
    }
   ],
   "source": [
    "df['EDUCATION_LEVEL.1'].value_counts() \n",
    "# education level of the applicant"
   ]
  },
  {
   "cell_type": "code",
   "execution_count": 55,
   "metadata": {},
   "outputs": [
    {
     "data": {
      "text/plain": [
       "0    50000\n",
       "Name: FLAG_HOME_ADDRESS_DOCUMENT, dtype: int64"
      ]
     },
     "execution_count": 55,
     "metadata": {},
     "output_type": "execute_result"
    }
   ],
   "source": [
    "df.FLAG_HOME_ADDRESS_DOCUMENT.value_counts()\n",
    "# check the documental confirmation of the applicant's home address, all 0, can be dropped"
   ]
  },
  {
   "cell_type": "code",
   "execution_count": 56,
   "metadata": {},
   "outputs": [
    {
     "data": {
      "text/plain": [
       "0    50000\n",
       "Name: FLAG_RG, dtype: int64"
      ]
     },
     "execution_count": 56,
     "metadata": {},
     "output_type": "execute_result"
    }
   ],
   "source": [
    "df.FLAG_RG.value_counts()\n",
    "# check the documental confirmation of the applicant's citizen card number, all 0, can be dropped"
   ]
  },
  {
   "cell_type": "code",
   "execution_count": 57,
   "metadata": {
    "colab": {
     "base_uri": "https://localhost:8080/"
    },
    "id": "Smw-4V-F0ULi",
    "outputId": "079ca85d-3f94-4244-9cbb-ee6910b15834"
   },
   "outputs": [
    {
     "data": {
      "text/plain": [
       "0    50000\n",
       "Name: FLAG_CPF, dtype: int64"
      ]
     },
     "execution_count": 57,
     "metadata": {},
     "output_type": "execute_result"
    }
   ],
   "source": [
    "df.FLAG_CPF.value_counts()\n",
    "# check the documental confirmation of the applicant's tax payer status, all 0, can be dropped"
   ]
  },
  {
   "cell_type": "code",
   "execution_count": 58,
   "metadata": {
    "colab": {
     "base_uri": "https://localhost:8080/"
    },
    "id": "cgF9bcjz0kFy",
    "outputId": "5d207838-926a-45b0-84ae-2325b5f9c15c"
   },
   "outputs": [
    {
     "data": {
      "text/plain": [
       "0    50000\n",
       "Name: FLAG_INCOME_PROOF, dtype: int64"
      ]
     },
     "execution_count": 58,
     "metadata": {},
     "output_type": "execute_result"
    }
   ],
   "source": [
    "df.FLAG_INCOME_PROOF.value_counts()\n",
    "# check the documental confirmation of the applicant's income, all 0, can be dropped"
   ]
  },
  {
   "cell_type": "code",
   "execution_count": 59,
   "metadata": {
    "colab": {
     "base_uri": "https://localhost:8080/"
    },
    "id": "O9SXW5qJ0wzZ",
    "outputId": "ff88f13a-2c33-4266-a705-1b90c462519a"
   },
   "outputs": [
    {
     "data": {
      "text/plain": [
       "1    42690\n",
       "2     6015\n",
       "7     1295\n",
       "Name: PRODUCT, dtype: int64"
      ]
     },
     "execution_count": 59,
     "metadata": {},
     "output_type": "execute_result"
    }
   ],
   "source": [
    "df.PRODUCT.value_counts()\n",
    "# product: type of credit product applied.  3 classes: {1,2,7}"
   ]
  },
  {
   "cell_type": "code",
   "execution_count": 60,
   "metadata": {
    "colab": {
     "base_uri": "https://localhost:8080/"
    },
    "id": "Pv6qxcIa1EaP",
    "outputId": "52b241b6-3bea-4239-a292-402654284224"
   },
   "outputs": [
    {
     "data": {
      "text/plain": [
       "N    50000\n",
       "Name: FLAG_ACSP_RECORD, dtype: int64"
      ]
     },
     "execution_count": 60,
     "metadata": {},
     "output_type": "execute_result"
    }
   ],
   "source": [
    "df.FLAG_ACSP_RECORD.value_counts()\n",
    "# check whether the applicant has any previous credit delinquency  {Y,N},  all N, can be dropped"
   ]
  },
  {
   "cell_type": "code",
   "execution_count": 61,
   "metadata": {
    "colab": {
     "base_uri": "https://localhost:8080/"
    },
    "id": "ekFhNBJB2Sea",
    "outputId": "a3e9dbd7-0b10-418c-fb02-10aca579017e"
   },
   "outputs": [
    {
     "data": {
      "text/plain": [
       "count    50000.00000\n",
       "mean        43.24852\n",
       "std         14.98905\n",
       "min          6.00000\n",
       "25%         31.00000\n",
       "50%         41.00000\n",
       "75%         53.00000\n",
       "max        106.00000\n",
       "Name: AGE, dtype: float64"
      ]
     },
     "execution_count": 61,
     "metadata": {},
     "output_type": "execute_result"
    }
   ],
   "source": [
    "df.AGE.describe()\n",
    "# age of the applicant, [6,106]"
   ]
  },
  {
   "cell_type": "code",
   "execution_count": 62,
   "metadata": {
    "colab": {
     "base_uri": "https://localhost:8080/"
    },
    "id": "iVRdfEHG23hm",
    "outputId": "51398f79-0852-4ceb-d748-c8d8603c8cc4"
   },
   "outputs": [
    {
     "data": {
      "text/plain": [
       "960    721\n",
       "591    547\n",
       "570    508\n",
       "628    459\n",
       "456    444\n",
       "      ... \n",
       "470      1\n",
       "430      1\n",
       "675      1\n",
       "991      1\n",
       "802      1\n",
       "Name: RESIDENCIAL_ZIP_3, Length: 1481, dtype: int64"
      ]
     },
     "execution_count": 62,
     "metadata": {},
     "output_type": "execute_result"
    }
   ],
   "source": [
    "df.RESIDENCIAL_ZIP_3.value_counts()\n",
    "# three most significant digits of the actual home zip code"
   ]
  },
  {
   "cell_type": "code",
   "execution_count": 63,
   "metadata": {
    "colab": {
     "base_uri": "https://localhost:8080/"
    },
    "id": "MVvVQLST3MZ8",
    "outputId": "b675019b-bd5d-4e15-ae5d-415577cae0ea"
   },
   "outputs": [
    {
     "data": {
      "text/plain": [
       "960    721\n",
       "591    547\n",
       "570    508\n",
       "628    459\n",
       "456    444\n",
       "      ... \n",
       "470      1\n",
       "430      1\n",
       "675      1\n",
       "991      1\n",
       "802      1\n",
       "Name: PROFESSIONAL_ZIP_3, Length: 1481, dtype: int64"
      ]
     },
     "execution_count": 63,
     "metadata": {},
     "output_type": "execute_result"
    }
   ],
   "source": [
    "df.PROFESSIONAL_ZIP_3.value_counts()\n",
    "# three most significant digits of the actual job zip code"
   ]
  },
  {
   "cell_type": "code",
   "execution_count": 64,
   "metadata": {
    "colab": {
     "base_uri": "https://localhost:8080/"
    },
    "id": "a0Z-A3ev3QXH",
    "outputId": "6eb3b957-e223-43b6-bd7c-b6d2fdc2bec5"
   },
   "outputs": [
    {
     "data": {
      "text/plain": [
       "True"
      ]
     },
     "execution_count": 64,
     "metadata": {},
     "output_type": "execute_result"
    }
   ],
   "source": [
    "all(df.PROFESSIONAL_ZIP_3 == df.RESIDENCIAL_ZIP_3)  \n",
    "# the professional zip and residencial zip are found to be the same, can drop one of them"
   ]
  },
  {
   "cell_type": "code",
   "execution_count": 65,
   "metadata": {
    "colab": {
     "base_uri": "https://localhost:8080/"
    },
    "id": "CfxH1FoC3sj-",
    "outputId": "48df4a20-d4c5-4170-f0f1-f72d52a522a4"
   },
   "outputs": [
    {
     "data": {
      "text/plain": [
       "0    36959\n",
       "1    13041\n",
       "Name: TARGET_LABEL_BAD=1, dtype: int64"
      ]
     },
     "execution_count": 65,
     "metadata": {},
     "output_type": "execute_result"
    }
   ],
   "source": [
    "target = df[df.columns[-1]]\n",
    "target.value_counts()\n",
    "# target label: whether an applicant is classified as BAD(1) or GOOD(0)"
   ]
  },
  {
   "cell_type": "markdown",
   "metadata": {},
   "source": [
    "----"
   ]
  },
  {
   "cell_type": "markdown",
   "metadata": {},
   "source": [
    "# Data Pre-Processing"
   ]
  },
  {
   "cell_type": "markdown",
   "metadata": {},
   "source": [
    "## Installing Requirements"
   ]
  },
  {
   "cell_type": "code",
   "execution_count": null,
   "metadata": {},
   "outputs": [],
   "source": [
    "!pip install -U threadpoolctl 3.1.0\n",
    "from sklearn.impute import KNNImputer\n",
    "from sklearn.neighbors import LocalOutlierFactor"
   ]
  },
  {
   "cell_type": "code",
   "execution_count": null,
   "metadata": {},
   "outputs": [],
   "source": [
    "#re-assigning the dataset variable for a clean start\n",
    "dataset = pd.read_csv(\"CSdata.txt\", sep='\\t')\n",
    "dataset.head()"
   ]
  },
  {
   "cell_type": "markdown",
   "metadata": {},
   "source": [
    "## Drop Columns"
   ]
  },
  {
   "cell_type": "code",
   "execution_count": null,
   "metadata": {},
   "outputs": [],
   "source": [
    "dropped_columns=['ID_CLIENT', 'CLERK_TYPE', 'QUANT_ADDITIONAL_CARDS', \n",
    "                 'CITY_OF_BIRTH', 'FLAG_MOBILE_PHONE', 'PERSONAL_ASSETS_VALUE',\n",
    "                 'PROFESSIONAL_STATE', 'PROFESSIONAL_CITY','PROFESSIONAL_BOROUGH',\n",
    "                 'PROFESSIONAL_PHONE_AREA_CODE','MONTHS_IN_THE_JOB','MATE_PROFESSION_CODE',\n",
    "                 'EDUCATION_LEVEL','FLAG_HOME_ADDRESS_DOCUMENT','FLAG_RG','FLAG_CPF',\n",
    "                 'FLAG_INCOME_PROOF','FLAG_ACSP_RECORD', 'RESIDENCIAL_ZIP_3','EDUCATION_LEVEL.1']\n",
    "dataset=dataset.drop(dropped_columns, axis=1)"
   ]
  },
  {
   "cell_type": "markdown",
   "metadata": {},
   "source": [
    "## Converting Column Type"
   ]
  },
  {
   "cell_type": "code",
   "execution_count": null,
   "metadata": {},
   "outputs": [],
   "source": [
    "dataset[\"PROFESSIONAL_ZIP_3\"] =  pd.to_numeric(dataset['PROFESSIONAL_ZIP_3'],errors='coerce')"
   ]
  },
  {
   "cell_type": "markdown",
   "metadata": {},
   "source": [
    "## Pre-Processing Columns"
   ]
  },
  {
   "cell_type": "code",
   "execution_count": null,
   "metadata": {},
   "outputs": [],
   "source": [
    "#replacing 0 to Null\n",
    "dataset['APPLICATION_SUBMISSION_TYPE'] = dataset['APPLICATION_SUBMISSION_TYPE'].replace('0', np.nan)\n",
    "dataset['RESIDENCE_TYPE'] = dataset['RESIDENCE_TYPE'].replace(0.0, np.nan)\n",
    "dataset['PERSONAL_MONTHLY_INCOME'] = dataset['PERSONAL_MONTHLY_INCOME'].replace('0.0', np.nan)\n",
    "dataset['PROFESSION_CODE'] = dataset['PROFESSION_CODE'].replace('0.0', np.nan)\n",
    "dataset['OCCUPATION_TYPE'] = dataset['OCCUPATION_TYPE'].replace('0.0', np.nan)\n",
    "\n",
    "#converting to Null\n",
    "dataset[\"RESIDENCE_TYPE\"] = dataset['RESIDENCE_TYPE'].replace('nan', np.nan)\n",
    "dataset['SEX'] = dataset['SEX'].replace('N', 'M')\n",
    "dataset['SEX'] = dataset['SEX'].replace(' ', np.nan)\n",
    "dataset['RESIDENCIAL_PHONE_AREA_CODE'] = dataset['RESIDENCIAL_PHONE_AREA_CODE'].replace(' ', np.nan)"
   ]
  },
  {
   "cell_type": "markdown",
   "metadata": {},
   "source": [
    "## Processing Null Columns\n",
    "checking the proportion of NULL values in columns"
   ]
  },
  {
   "cell_type": "code",
   "execution_count": null,
   "metadata": {},
   "outputs": [],
   "source": [
    "dataset.isna().sum()"
   ]
  },
  {
   "cell_type": "code",
   "execution_count": null,
   "metadata": {},
   "outputs": [],
   "source": [
    "columns_with_nulls = ['RESIDENCIAL_PHONE_AREA_CODE','APPLICATION_SUBMISSION_TYPE','RESIDENCIAL_CITY','RESIDENCE_TYPE','MONTHS_IN_RESIDENCE','PROFESSION_CODE','OCCUPATION_TYPE']\n",
    "\n",
    "#checking the proportion of null values in columnS\n",
    "for each_col in columns_with_nulls:\n",
    "  percentage = round((dataset[each_col].isna().sum())/len(dataset)*100,2)\n",
    "  print(each_col+\" : \"+ str(percentage))"
   ]
  },
  {
   "cell_type": "markdown",
   "metadata": {},
   "source": [
    "## Imputation"
   ]
  },
  {
   "cell_type": "code",
   "execution_count": null,
   "metadata": {},
   "outputs": [],
   "source": [
    "dataset.columns"
   ]
  },
  {
   "cell_type": "code",
   "execution_count": null,
   "metadata": {},
   "outputs": [],
   "source": [
    "nominal_columns=[\"APPLICATION_SUBMISSION_TYPE\",\"RESIDENCIAL_CITY\",\"RESIDENCIAL_PHONE_AREA_CODE\",\"RESIDENCE_TYPE\",\"PROFESSION_CODE\",\"OCCUPATION_TYPE\",\"SEX\"]\n",
    "for each_col in nominal_columns:\n",
    "  dataset[each_col] = dataset[each_col].fillna(dataset[each_col].mode()[0])"
   ]
  },
  {
   "cell_type": "code",
   "execution_count": null,
   "metadata": {},
   "outputs": [],
   "source": [
    "nonnumeric_cols=['PAYMENT_DAY', 'APPLICATION_SUBMISSION_TYPE', 'POSTAL_ADDRESS_TYPE',\n",
    "       'SEX', 'MARITAL_STATUS','STATE_OF_BIRTH',\n",
    "       'NACIONALITY', 'RESIDENCIAL_STATE', 'RESIDENCIAL_CITY',\n",
    "       'RESIDENCIAL_BOROUGH', 'FLAG_RESIDENCIAL_PHONE',\n",
    "       'RESIDENCIAL_PHONE_AREA_CODE', 'RESIDENCE_TYPE',\n",
    "       'FLAG_EMAIL', 'FLAG_VISA','FLAG_MASTERCARD', 'FLAG_DINERS', 'FLAG_AMERICAN_EXPRESS',\n",
    "       'FLAG_OTHER_CARDS', 'COMPANY','FLAG_PROFESSIONAL_PHONE', 'PROFESSION_CODE', 'OCCUPATION_TYPE',\n",
    "     'PRODUCT','PROFESSIONAL_ZIP_3','TARGET_LABEL_BAD=1']\n",
    "\n",
    "numeric_cols=['QUANT_DEPENDANTS', 'MONTHS_IN_RESIDENCE', 'PERSONAL_MONTHLY_INCOME', 'OTHER_INCOMES', 'QUANT_BANKING_ACCOUNTS', 'QUANT_SPECIAL_BANKING_ACCOUNTS', 'QUANT_CARS', 'AGE']"
   ]
  },
  {
   "cell_type": "code",
   "execution_count": null,
   "metadata": {},
   "outputs": [],
   "source": [
    "numerical_columns = dataset[numeric_cols]\n",
    "nonnumeric_columns = dataset[nonnumeric_cols]\n",
    "numerical_columns.head()"
   ]
  },
  {
   "cell_type": "code",
   "execution_count": null,
   "metadata": {},
   "outputs": [],
   "source": [
    "imputer = KNNImputer(n_neighbors=5, weights='uniform', metric='nan_euclidean')\n",
    "result = imputer.fit_transform(numerical_columns)\n",
    "imputed_df = pd.DataFrame(result, columns=numerical_columns.columns)\n",
    "imputed_df.head()"
   ]
  },
  {
   "cell_type": "code",
   "execution_count": null,
   "metadata": {},
   "outputs": [],
   "source": [
    "dataset = pd.concat([imputed_df,nonnumeric_columns], axis=1)"
   ]
  },
  {
   "cell_type": "code",
   "execution_count": null,
   "metadata": {},
   "outputs": [],
   "source": [
    "dataset.info()"
   ]
  },
  {
   "cell_type": "markdown",
   "metadata": {},
   "source": [
    "## Encoding"
   ]
  },
  {
   "cell_type": "code",
   "execution_count": null,
   "metadata": {},
   "outputs": [],
   "source": [
    "categorical_cols=['APPLICATION_SUBMISSION_TYPE','SEX','FLAG_RESIDENCIAL_PHONE','COMPANY','FLAG_PROFESSIONAL_PHONE', 'NACIONALITY','POSTAL_ADDRESS_TYPE', 'MARITAL_STATUS', 'RESIDENCE_TYPE', 'PROFESSION_CODE', 'OCCUPATION_TYPE', 'PRODUCT']\n",
    "for each_col in categorical_cols:\n",
    "  val = dataset[each_col]\n",
    "  temp = pd.get_dummies(val, prefix=each_col, drop_first=True)\n",
    "  dataset = pd.concat([dataset,temp], axis=1)\n",
    "dataset.head()"
   ]
  },
  {
   "cell_type": "code",
   "execution_count": null,
   "metadata": {},
   "outputs": [],
   "source": [
    "dataset=dataset.drop(categorical_cols, axis=1)\n",
    "dataset.shape[1]"
   ]
  },
  {
   "cell_type": "code",
   "execution_count": null,
   "metadata": {},
   "outputs": [],
   "source": [
    "locations = ['STATE_OF_BIRTH','RESIDENCIAL_BOROUGH','RESIDENCIAL_CITY', 'RESIDENCIAL_STATE','PROFESSIONAL_ZIP_3','RESIDENCIAL_PHONE_AREA_CODE']\n",
    "for each_col in locations:\n",
    "  temp = dataset[each_col].nunique()\n",
    "  print(each_col+\" has \"+ str(temp)+\" values\")\n",
    "  percentage = round((temp/dataset.shape[0])*100,2)\n",
    "  print(percentage)"
   ]
  },
  {
   "cell_type": "code",
   "execution_count": null,
   "metadata": {},
   "outputs": [],
   "source": [
    "dataset=dataset.drop(locations, axis=1)\n",
    "dataset.shape[1]"
   ]
  },
  {
   "cell_type": "code",
   "execution_count": null,
   "metadata": {},
   "outputs": [],
   "source": [
    "dataset.info()"
   ]
  },
  {
   "cell_type": "markdown",
   "metadata": {},
   "source": [
    "## Outlier Detection"
   ]
  },
  {
   "cell_type": "code",
   "execution_count": null,
   "metadata": {},
   "outputs": [],
   "source": [
    "features = list(dataset.columns)\n",
    "features.remove(\"TARGET_LABEL_BAD=1\")\n",
    "features = dataset[features]\n",
    "target = dataset[[\"TARGET_LABEL_BAD=1\"]]"
   ]
  },
  {
   "cell_type": "code",
   "execution_count": null,
   "metadata": {},
   "outputs": [],
   "source": [
    "loc= LocalOutlierFactor(n_neighbors = 20, contamination = 0.2)\n",
    "outliers_loc = loc.fit_predict(features)\n",
    "features['outlier_lof'] = pd.DataFrame(outliers_loc)\n",
    "len(features[features['outlier_lof']==1])"
   ]
  },
  {
   "cell_type": "code",
   "execution_count": null,
   "metadata": {},
   "outputs": [],
   "source": [
    "dataset = pd.concat([features,target], axis=1)"
   ]
  },
  {
   "cell_type": "code",
   "execution_count": null,
   "metadata": {},
   "outputs": [],
   "source": [
    "no_outlier = dataset[dataset['outlier_lof']==1]\n",
    "no_outlier = no_outlier.drop('outlier_lof', axis=1)"
   ]
  },
  {
   "cell_type": "code",
   "execution_count": null,
   "metadata": {},
   "outputs": [],
   "source": [
    "no_outlier.shape[0]"
   ]
  },
  {
   "cell_type": "code",
   "execution_count": null,
   "metadata": {},
   "outputs": [],
   "source": [
    "no_outlier.to_csv('cleanedV06.csv', index=False)"
   ]
  },
  {
   "cell_type": "markdown",
   "metadata": {},
   "source": [
    "# Model Development"
   ]
  },
  {
   "cell_type": "code",
   "execution_count": null,
   "metadata": {},
   "outputs": [],
   "source": [
    "!pip install imblearn"
   ]
  },
  {
   "cell_type": "code",
   "execution_count": null,
   "metadata": {},
   "outputs": [],
   "source": [
    "import matplotlib.pyplot as plt\n",
    "import seaborn as sns\n",
    "\n",
    "import sklearn.datasets as datasets\n",
    "from sklearn.model_selection import train_test_split, StratifiedKFold\n",
    "\n",
    "from sklearn.preprocessing import StandardScaler\n",
    "\n",
    "from sklearn.decomposition import PCA\n",
    "\n",
    "from imblearn.over_sampling import SMOTE\n",
    "from imblearn.pipeline import Pipeline as imbpipeline\n",
    "\n",
    "from sklearn.model_selection import RandomizedSearchCV\n",
    "\n",
    "from sklearn.linear_model import LogisticRegression\n",
    "from sklearn.tree import DecisionTreeClassifier\n",
    "from sklearn.svm import SVC\n",
    "\n",
    "from sklearn.ensemble import BaggingClassifier, RandomForestClassifier, AdaBoostClassifier\n",
    "\n",
    "from sklearn.metrics import accuracy_score, roc_auc_score, confusion_matrix, plot_confusion_matrix\n",
    "\n",
    "import warnings\n",
    "warnings.filterwarnings(\"ignore\")"
   ]
  },
  {
   "cell_type": "code",
   "execution_count": null,
   "metadata": {},
   "outputs": [],
   "source": [
    "# Load data set\n",
    "dataset = pd.read_csv('cleanedV06.csv')\n",
    "\n",
    "\n",
    "list1 = list(dataset.columns)\n",
    "len(list1)\n",
    "list1.remove('TARGET_LABEL_BAD=1')\n",
    "len(list1)\n",
    "\n",
    "\n",
    "X = dataset[list1]\n",
    "y = dataset['TARGET_LABEL_BAD=1']"
   ]
  },
  {
   "cell_type": "code",
   "execution_count": null,
   "metadata": {},
   "outputs": [],
   "source": [
    "scaling_needed = ['PAYMENT_DAY', 'QUANT_DEPENDANTS', 'MONTHS_IN_RESIDENCE', 'PERSONAL_MONTHLY_INCOME', 'OTHER_INCOMES', 'QUANT_BANKING_ACCOUNTS', 'QUANT_SPECIAL_BANKING_ACCOUNTS', 'QUANT_CARS', 'AGE']\n",
    "no_scaling = list(set(list(X.columns)).difference(scaling_needed))\n",
    "\n",
    "X_scaling_needed = X[scaling_needed]\n",
    "X_no_scaling = X[no_scaling]\n",
    "\n",
    "scaler = StandardScaler()\n",
    "scaled_columns  = scaler.fit_transform(X_scaling_needed) \n",
    "\n",
    "X_new = np.concatenate([scaled_columns, X_no_scaling], axis=1)\n",
    "\n",
    "X_column_names = list(X_scaling_needed.columns) + list(X_no_scaling.columns)"
   ]
  },
  {
   "cell_type": "markdown",
   "metadata": {},
   "source": [
    "----"
   ]
  },
  {
   "cell_type": "code",
   "execution_count": null,
   "metadata": {},
   "outputs": [],
   "source": [
    "class Predictors:\n",
    "    def __init__(self, X_train, X_test, y_train, y_test):\n",
    "        self.X_train = X_train\n",
    "        self.X_test = X_test\n",
    "        self.y_train = y_train\n",
    "        self.y_test = y_test\n",
    "    \n",
    "    def get_pipeline(self, chosen_base_classifier, random_seed):\n",
    "        pipeline = imbpipeline(steps = [['smote', SMOTE(sampling_strategy=1, n_jobs=-1, random_state=random_seed)],\n",
    "                                        ['classifier', chosen_base_classifier]]) \n",
    "        return pipeline\n",
    "\n",
    "    def get_stratified_kfold(self, random_seed):\n",
    "        stratified_kfold = StratifiedKFold(n_splits=5,\n",
    "                                            shuffle=True,\n",
    "                                            random_state=random_seed)\n",
    "        return stratified_kfold\n",
    "\n",
    "\n",
    "    def train_classifier(self, classifier, grid_space, random_seed):\n",
    "\n",
    "        pipeline = self.get_pipeline(classifier, random_seed)\n",
    "\n",
    "        search = RandomizedSearchCV(pipeline, grid_space, scoring='roc_auc', cv=self.get_stratified_kfold(random_seed), refit=True, n_iter=20, n_jobs=-1, random_state=random_seed)\n",
    "\n",
    "        search.fit(self.X_train, self.y_train)\n",
    "        print('Best Hyperparameters: %s' % search.best_params_, '\\n')\n",
    "\n",
    "        best_classifier = search.best_estimator_\n",
    "        y_pred = best_classifier.predict(self.X_test)\n",
    "\n",
    "        print(f'Best estimator ACCURACY score: {accuracy_score(self.y_test, y_pred)}\\nBest estimator AUROC score: {roc_auc_score(self.y_test, y_pred)}')\n",
    "\n",
    "        tn, fp, fn, tp = confusion_matrix(self.y_test, y_pred).ravel()\n",
    "        print('Best estimator Type I error: ', (fn/(tp+fn))) # low is good\n",
    "        print('Best estimator Type II error: ', (fp/(fp+tn))) # low is good\n",
    "        print('Best estimator PRECISION using confusion matrix error: ', (tp / (tp + fp))) # high is good\n",
    "        print('Best estimator RECALL using confusion matrix error: ', (tp / (tp + fn))) # high is good\n",
    "\n",
    "        plot_confusion_matrix(best_classifier, self.X_test, self.y_test)\n",
    "\n",
    "        return search, best_classifier\n",
    "\n",
    "    ####### Base learner algorithms #######\n",
    "\n",
    "    def run_logistic_regression(self, random_seed):\n",
    "        logistic_regression_classifier = LogisticRegression(solver = 'liblinear', random_state=random_seed)\n",
    "        \n",
    "        grid_space = {'classifier__C': np.logspace(-10, 10, 20)}\n",
    "\n",
    "        search, best_classifier = self.train_classifier(logistic_regression_classifier, grid_space, random_seed)\n",
    "\n",
    "        return search, best_classifier\n",
    "        \n",
    "\n",
    "    def run_decision_tree(self, random_seed):\n",
    "        decision_tree_classifier = DecisionTreeClassifier(random_state=random_seed)\n",
    "        \n",
    "        grid_space = {'classifier__criterion': ['gini', 'entropy'],\n",
    "                    'classifier__max_depth': np.linspace(2, 100, num=20, dtype=int),\n",
    "                    'classifier__min_samples_leaf': np.linspace(2, 100, num=20, dtype=int)}\n",
    "\n",
    "        search, best_classifier = self.train_classifier(decision_tree_classifier, grid_space, random_seed)\n",
    "\n",
    "        return search, best_classifier\n",
    "\n",
    "    ####### Bagging algorithms #######\n",
    "\n",
    "    def run_Bagging(self, base_learner, random_seed):\n",
    "        bagging_classifier =  BaggingClassifier(base_estimator=base_learner, random_state=random_seed)\n",
    "        \n",
    "        grid_space = {'classifier__n_estimators': np.linspace(2, 120, num=20, dtype=int),\n",
    "                    'classifier__bootstrap_features': [True, False],\n",
    "                    'classifier__max_samples' : [0.2, 0.4, 0.6, 0.8, 1.0],\n",
    "                    'classifier__max_features' : [0.2, 0.4, 0.6, 0.8, 1.0]}\n",
    "\n",
    "        search, best_classifier = self.train_classifier(bagging_classifier, grid_space, random_seed)\n",
    "\n",
    "        return search, best_classifier\n",
    "\n",
    "    def run_RandomForest(self, random_seed):\n",
    "        random_forest_classifier =  RandomForestClassifier(random_state=random_seed)\n",
    "        \n",
    "        grid_space = {'classifier__n_estimators': np.linspace(2, 30, num=20, dtype=int),\n",
    "                    'classifier__criterion': ['gini', 'entropy'],\n",
    "                    'classifier__max_depth': np.linspace(2, 100, num=20, dtype=int), \n",
    "                    'classifier__min_samples_leaf': np.linspace(2, 100, num=20, dtype=int)} \n",
    "\n",
    "        search, best_classifier = self.train_classifier(random_forest_classifier, grid_space, random_seed)\n",
    "\n",
    "        return search, best_classifier\n",
    "    \n",
    "    ####### Boosting algorithm #######\n",
    "\n",
    "    def run_AdaBoost(self, base_learner, random_seed):\n",
    "        bagging_classifier =  AdaBoostClassifier(base_estimator=base_learner, random_state=random_seed)\n",
    "        \n",
    "        grid_space = {'classifier__n_estimators': np.linspace(2, 100, num=20, dtype=int),\n",
    "                    'classifier__learning_rate' : [0.00001, 0.0001, 0.001, 0.01]}\n",
    "\n",
    "        search, best_classifier = self.train_classifier(bagging_classifier, grid_space, random_seed)\n",
    "\n",
    "        return search, best_classifier\n",
    "    "
   ]
  },
  {
   "cell_type": "markdown",
   "metadata": {},
   "source": [
    "----"
   ]
  },
  {
   "cell_type": "code",
   "execution_count": null,
   "metadata": {},
   "outputs": [],
   "source": [
    "train_data, test_data, train_labels, test_labels = train_test_split(X_new, y, test_size=0.2, stratify=y, random_state=42)"
   ]
  },
  {
   "cell_type": "code",
   "execution_count": null,
   "metadata": {},
   "outputs": [],
   "source": [
    "predictions = Predictors(train_data, test_data, train_labels, test_labels)"
   ]
  },
  {
   "cell_type": "markdown",
   "metadata": {},
   "source": [
    "----"
   ]
  },
  {
   "cell_type": "code",
   "execution_count": null,
   "metadata": {},
   "outputs": [],
   "source": [
    "lr_search, lr_best_model = predictions.run_logistic_regression(42)"
   ]
  },
  {
   "cell_type": "code",
   "execution_count": null,
   "metadata": {},
   "outputs": [],
   "source": [
    "lr_search_bagging, lr_best_model_bagging = predictions.run_Bagging(lr_best_model['classifier'], 42)"
   ]
  },
  {
   "cell_type": "code",
   "execution_count": null,
   "metadata": {},
   "outputs": [],
   "source": [
    "lr_search_boosting, lr_best_model_boosting = predictions.run_AdaBoost(lr_best_model['classifier'], 42)"
   ]
  },
  {
   "cell_type": "markdown",
   "metadata": {},
   "source": [
    "---"
   ]
  },
  {
   "cell_type": "code",
   "execution_count": null,
   "metadata": {},
   "outputs": [],
   "source": [
    "dt_search, dt_best_model  = predictions.run_decision_tree(42)"
   ]
  },
  {
   "cell_type": "code",
   "execution_count": null,
   "metadata": {},
   "outputs": [],
   "source": [
    "rf_search, rf_best_model = predictions.run_RandomForest(42)"
   ]
  },
  {
   "cell_type": "code",
   "execution_count": null,
   "metadata": {},
   "outputs": [],
   "source": [
    "# Adapted from\n",
    "# https://scikit-learn.org/stable/auto_examples/ensemble/plot_forest_importances.html\n",
    "\n",
    "forrest = rf_best_model['classifier'].fit(train_data, train_labels)\n",
    "\n",
    "importances = forrest.feature_importances_\n",
    "std = np.std([tree.feature_importances_ for tree in forrest.estimators_], axis=0)\n",
    "\n",
    "forest_importances = pd.Series(importances, index=X_column_names)\n",
    "\n",
    "fig, ax = plt.subplots(figsize=(20,10))\n",
    "forest_importances.plot.bar(yerr=std, ax=ax)\n",
    "ax.set_title(\"Feature importances using Mean Decrease in Impurity (MDI)\", fontsize=16)\n",
    "ax.set_ylabel(\"Mean decrease in impurity\", fontsize=12)\n",
    "fig.tight_layout()"
   ]
  },
  {
   "cell_type": "code",
   "execution_count": null,
   "metadata": {},
   "outputs": [],
   "source": [
    "forest_importances"
   ]
  },
  {
   "cell_type": "code",
   "execution_count": null,
   "metadata": {},
   "outputs": [],
   "source": [
    "dt_boost_search, dt_boost_best_model = predictions.run_AdaBoost(dt_best_model['classifier'], 42)"
   ]
  },
  {
   "cell_type": "code",
   "execution_count": null,
   "metadata": {},
   "outputs": [],
   "source": []
  }
 ],
 "metadata": {
  "kernelspec": {
   "display_name": "Python 3",
   "language": "python",
   "name": "python3"
  },
  "language_info": {
   "codemirror_mode": {
    "name": "ipython",
    "version": 3
   },
   "file_extension": ".py",
   "mimetype": "text/x-python",
   "name": "python",
   "nbconvert_exporter": "python",
   "pygments_lexer": "ipython3",
   "version": "3.8.5"
  },
  "toc": {
   "base_numbering": 1,
   "nav_menu": {},
   "number_sections": true,
   "sideBar": true,
   "skip_h1_title": false,
   "title_cell": "Table of Contents",
   "title_sidebar": "Contents",
   "toc_cell": false,
   "toc_position": {},
   "toc_section_display": true,
   "toc_window_display": true
  }
 },
 "nbformat": 4,
 "nbformat_minor": 5
}

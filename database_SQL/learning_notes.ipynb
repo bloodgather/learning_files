{
 "cells": [
  {
   "cell_type": "markdown",
   "metadata": {},
   "source": [
    "# SQL\n",
    "---"
   ]
  },
  {
   "cell_type": "markdown",
   "metadata": {},
   "source": [
    "```sql\n",
    "SELECT column1, column2, ...\n",
    "FROM table_name\n",
    "WHERE condition\n",
    ";\n",
    "```"
   ]
  },
  {
   "cell_type": "markdown",
   "metadata": {},
   "source": [
    "## 特殊语句\n",
    "- COUNT()\n",
    "- DISTINCT: 必须作为第一个字段\n",
    "- LIMIT: 从第几个开始  OFFSET\n",
    "```sql\n",
    "SELECT * FROM FilmLocations LIMIT 15 OFFSET 10;\n",
    "```\n",
    "- INSERT\n",
    "```SQL\n",
    "INSERT INTO table_name (column1, column2, ... )\n",
    "VALUES (value1, value2, ... )\n",
    ";\n",
    "```\n",
    "- UPDATE\n",
    "```SQL\n",
    "UPDATE table_name\n",
    "SET column1 = value1, column2 = value2, ...\n",
    "WHERE condition\n",
    ";\n",
    "```\n",
    "- DELETE \n",
    "```SQL\n",
    "DELETE FROM table_name\n",
    "WHERE condition\n",
    ";\n",
    "```\n"
   ]
  },
  {
   "cell_type": "markdown",
   "metadata": {},
   "source": [
    "## DDL\n",
    "- CREATE\n",
    "```SQL\n",
    "CREATE TABLE table_name (\n",
    "    column1 datatype,\n",
    "    column2 datatype,\n",
    "    column3 datatype,\n",
    "   ....\n",
    ");\n",
    "```\n",
    "- ALTER\n",
    "```SQL\n",
    "ALTER TABLE table_name\n",
    "ADD COLUMN column_name data_type column_constraint;\n",
    "ALTER TABLE table_name\n",
    "DROP COLUMN column_name;\n",
    "ALTER TABLE table_name\n",
    "ALTER COLUMN column_name SET DATA TYPE data_type;\n",
    "ALTER TABLE table_name\n",
    "RENAME COLUMN current_column_name TO new_column_name;\n",
    "```\n",
    "- TRUNCATE\n",
    "```SQL\n",
    "TRUNCATE TABLE table_name IMMEDIATE;\n",
    "```\n",
    "- DROP\n",
    "```SQL\n",
    "DROP TABLE table_name;\n",
    "```\n",
    "- Nested SELECT\n",
    "```sql\n",
    "SELECT column_name [, column_name ]\n",
    "FROM table1 [, table2 ]\n",
    "WHERE column_name OPERATOR\n",
    "   (SELECT column_name [, column_name ]\n",
    "   FROM table1 [, table2 ]\n",
    "   WHERE condition);\n",
    "```"
   ]
  },
  {
   "cell_type": "markdown",
   "metadata": {},
   "source": [
    "# 注意点\n",
    "- HAVING 不同通过别名筛选\n",
    "    ODER BY 可以通过别名筛选\n",
    "-  CAST(\"Column_Name\" as DOUBLE) 转换数据类型"
   ]
  },
  {
   "cell_type": "code",
   "execution_count": null,
   "metadata": {},
   "outputs": [],
   "source": []
  }
 ],
 "metadata": {
  "kernelspec": {
   "display_name": "Python 3",
   "language": "python",
   "name": "python3"
  },
  "language_info": {
   "codemirror_mode": {
    "name": "ipython",
    "version": 3
   },
   "file_extension": ".py",
   "mimetype": "text/x-python",
   "name": "python",
   "nbconvert_exporter": "python",
   "pygments_lexer": "ipython3",
   "version": "3.8.5"
  },
  "toc": {
   "base_numbering": 1,
   "nav_menu": {},
   "number_sections": true,
   "sideBar": true,
   "skip_h1_title": false,
   "title_cell": "Table of Contents",
   "title_sidebar": "Contents",
   "toc_cell": false,
   "toc_position": {},
   "toc_section_display": true,
   "toc_window_display": false
  }
 },
 "nbformat": 4,
 "nbformat_minor": 4
}
